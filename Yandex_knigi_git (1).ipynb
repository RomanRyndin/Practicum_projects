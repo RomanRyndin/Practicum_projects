{
 "cells": [
  {
   "cell_type": "markdown",
   "id": "_E41Wr5fqnFT",
   "metadata": {
    "id": "_E41Wr5fqnFT"
   },
   "source": [
    "# Часть 1. Проверка гипотезы в Python и составление аналитической записки для сервиса Яндекс Книги."
   ]
  },
  {
   "cell_type": "markdown",
   "id": "e06910dd",
   "metadata": {
    "id": "e06910dd"
   },
   "source": [
    "\n",
    "\n",
    "###  Автор: Роман Рындин\n",
    "- Дата: 04.06.2025"
   ]
  },
  {
   "cell_type": "markdown",
   "id": "4149134c",
   "metadata": {
    "id": "4149134c"
   },
   "source": [
    "## Цели и задачи проекта\n",
    "\n",
    "\n",
    "\n",
    "<b> Проверка гипотезы о том что  пользователи из Санкт-Петербурга проводят в среднем больше времени за чтением и прослушиванием книг в приложении Яндекс Книги, чем пользователи из Москвы. </b>"
   ]
  },
  {
   "cell_type": "markdown",
   "id": "4fecaf95",
   "metadata": {
    "id": "4fecaf95"
   },
   "source": [
    "## Содержимое проекта\n",
    "\n",
    "\n",
    "\n",
    "- <b> Загрузка и знакомство с данными</b>\n",
    "\n",
    "- <b> Анализ данных для выбора теста </b>\n",
    "\n",
    "- <b> Проведение теста </b>\n",
    "\n",
    "- <b> Интерпретация результата теста и составление аналитической записки </b>"
   ]
  },
  {
   "cell_type": "markdown",
   "id": "6f7d21d6",
   "metadata": {
    "id": "6f7d21d6"
   },
   "source": [
    "## 1. Загрузка данных и знакомство с ними\n",
    "\n"
   ]
  },
  {
   "cell_type": "code",
   "execution_count": 1,
   "id": "ce87c1db",
   "metadata": {
    "id": "ce87c1db"
   },
   "outputs": [],
   "source": [
    "# загрузим необходимые библтотеки\n",
    "import pandas as pd\n",
    "import matplotlib.pyplot as plt\n",
    "import seaborn as sns\n",
    "import scipy.stats as st\n",
    "import numpy as np\n",
    "from statsmodels.stats.power import NormalIndPower\n",
    "from statsmodels.stats.proportion import proportions_ztest\n"
   ]
  },
  {
   "cell_type": "code",
   "execution_count": 31,
   "id": "f68a7419",
   "metadata": {
    "id": "f68a7419"
   },
   "outputs": [],
   "source": [
    "# загрузим файл\n"
   ]
  },
  {
   "cell_type": "code",
   "execution_count": 3,
   "id": "01862f98-4c63-4a0e-9e7e-a6ff67f9c9e0",
   "metadata": {},
   "outputs": [
    {
     "name": "stdout",
     "output_type": "stream",
     "text": [
      "<class 'pandas.core.frame.DataFrame'>\n",
      "RangeIndex: 8784 entries, 0 to 8783\n",
      "Data columns (total 4 columns):\n",
      " #   Column      Non-Null Count  Dtype  \n",
      "---  ------      --------------  -----  \n",
      " 0   Unnamed: 0  8784 non-null   int64  \n",
      " 1   city        8784 non-null   object \n",
      " 2   puid        8784 non-null   int64  \n",
      " 3   hours       8784 non-null   float64\n",
      "dtypes: float64(1), int64(2), object(1)\n",
      "memory usage: 274.6+ KB\n"
     ]
    },
    {
     "data": {
      "text/plain": [
       "None"
      ]
     },
     "metadata": {},
     "output_type": "display_data"
    },
    {
     "data": {
      "text/html": [
       "<div>\n",
       "<style scoped>\n",
       "    .dataframe tbody tr th:only-of-type {\n",
       "        vertical-align: middle;\n",
       "    }\n",
       "\n",
       "    .dataframe tbody tr th {\n",
       "        vertical-align: top;\n",
       "    }\n",
       "\n",
       "    .dataframe thead th {\n",
       "        text-align: right;\n",
       "    }\n",
       "</style>\n",
       "<table border=\"1\" class=\"dataframe\">\n",
       "  <thead>\n",
       "    <tr style=\"text-align: right;\">\n",
       "      <th></th>\n",
       "      <th>Unnamed: 0</th>\n",
       "      <th>city</th>\n",
       "      <th>puid</th>\n",
       "      <th>hours</th>\n",
       "    </tr>\n",
       "  </thead>\n",
       "  <tbody>\n",
       "    <tr>\n",
       "      <th>0</th>\n",
       "      <td>0</td>\n",
       "      <td>Москва</td>\n",
       "      <td>9668</td>\n",
       "      <td>26.167776</td>\n",
       "    </tr>\n",
       "    <tr>\n",
       "      <th>1</th>\n",
       "      <td>1</td>\n",
       "      <td>Москва</td>\n",
       "      <td>16598</td>\n",
       "      <td>82.111217</td>\n",
       "    </tr>\n",
       "  </tbody>\n",
       "</table>\n",
       "</div>"
      ],
      "text/plain": [
       "   Unnamed: 0    city   puid      hours\n",
       "0           0  Москва   9668  26.167776\n",
       "1           1  Москва  16598  82.111217"
      ]
     },
     "execution_count": 3,
     "metadata": {},
     "output_type": "execute_result"
    }
   ],
   "source": [
    "# выведем информацию и первые строки датафрейма\n",
    "display(df.info())\n",
    "df.head(2)"
   ]
  },
  {
   "cell_type": "markdown",
   "id": "8ec74a76-4a6f-4d20-bdf3-c498b3ac9ad3",
   "metadata": {},
   "source": [
    "<b>Датафрэйм содержит 8784 строки и 4 столбца. Пропусков в данных нет. Столбец без названия не несёт полезной функции для нас, удалим его, чтобы не занимать место в памяти.</b>"
   ]
  },
  {
   "cell_type": "code",
   "execution_count": 4,
   "id": "13ed153a-70e1-4b37-b2ba-31759d190f86",
   "metadata": {},
   "outputs": [
    {
     "data": {
      "text/html": [
       "<div>\n",
       "<style scoped>\n",
       "    .dataframe tbody tr th:only-of-type {\n",
       "        vertical-align: middle;\n",
       "    }\n",
       "\n",
       "    .dataframe tbody tr th {\n",
       "        vertical-align: top;\n",
       "    }\n",
       "\n",
       "    .dataframe thead th {\n",
       "        text-align: right;\n",
       "    }\n",
       "</style>\n",
       "<table border=\"1\" class=\"dataframe\">\n",
       "  <thead>\n",
       "    <tr style=\"text-align: right;\">\n",
       "      <th></th>\n",
       "      <th>city</th>\n",
       "      <th>puid</th>\n",
       "      <th>hours</th>\n",
       "    </tr>\n",
       "  </thead>\n",
       "  <tbody>\n",
       "    <tr>\n",
       "      <th>0</th>\n",
       "      <td>Москва</td>\n",
       "      <td>9668</td>\n",
       "      <td>26.167776</td>\n",
       "    </tr>\n",
       "    <tr>\n",
       "      <th>1</th>\n",
       "      <td>Москва</td>\n",
       "      <td>16598</td>\n",
       "      <td>82.111217</td>\n",
       "    </tr>\n",
       "  </tbody>\n",
       "</table>\n",
       "</div>"
      ],
      "text/plain": [
       "     city   puid      hours\n",
       "0  Москва   9668  26.167776\n",
       "1  Москва  16598  82.111217"
      ]
     },
     "execution_count": 4,
     "metadata": {},
     "output_type": "execute_result"
    }
   ],
   "source": [
    "# удаляем не нужный столбец\n",
    "df = df.drop(columns=['Unnamed: 0'], errors='ignore')\n",
    "\n",
    "df.head(2)"
   ]
  },
  {
   "cell_type": "code",
   "execution_count": 5,
   "id": "42d8dece-b3da-4d29-a425-64b00fa8d8f5",
   "metadata": {},
   "outputs": [
    {
     "data": {
      "text/plain": [
       "Москва             6234\n",
       "Санкт-Петербург    2550\n",
       "Name: city, dtype: int64"
      ]
     },
     "execution_count": 5,
     "metadata": {},
     "output_type": "execute_result"
    }
   ],
   "source": [
    "df['city'].value_counts()"
   ]
  },
  {
   "cell_type": "markdown",
   "id": "216e79e4-341a-4f68-ab09-1637dec334f8",
   "metadata": {},
   "source": [
    "<b> В Москве 6234 пользователя, в Санкт-Петербурге 2550 пользователей. Проверим наличие дубликатов:</b>"
   ]
  },
  {
   "cell_type": "code",
   "execution_count": 6,
   "id": "4f20d093-2dc6-4b74-a87b-c49eee55f836",
   "metadata": {},
   "outputs": [
    {
     "name": "stdout",
     "output_type": "stream",
     "text": [
      "Количество дубликатов по puid: 244\n",
      "Дублирующиеся записи:\n"
     ]
    },
    {
     "data": {
      "text/html": [
       "<div>\n",
       "<style scoped>\n",
       "    .dataframe tbody tr th:only-of-type {\n",
       "        vertical-align: middle;\n",
       "    }\n",
       "\n",
       "    .dataframe tbody tr th {\n",
       "        vertical-align: top;\n",
       "    }\n",
       "\n",
       "    .dataframe thead th {\n",
       "        text-align: right;\n",
       "    }\n",
       "</style>\n",
       "<table border=\"1\" class=\"dataframe\">\n",
       "  <thead>\n",
       "    <tr style=\"text-align: right;\">\n",
       "      <th></th>\n",
       "      <th>city</th>\n",
       "      <th>puid</th>\n",
       "      <th>hours</th>\n",
       "    </tr>\n",
       "  </thead>\n",
       "  <tbody>\n",
       "    <tr>\n",
       "      <th>35</th>\n",
       "      <td>Москва</td>\n",
       "      <td>2637041</td>\n",
       "      <td>10.317371</td>\n",
       "    </tr>\n",
       "    <tr>\n",
       "      <th>6247</th>\n",
       "      <td>Санкт-Петербург</td>\n",
       "      <td>2637041</td>\n",
       "      <td>3.883926</td>\n",
       "    </tr>\n",
       "    <tr>\n",
       "      <th>134</th>\n",
       "      <td>Москва</td>\n",
       "      <td>9979490</td>\n",
       "      <td>32.415573</td>\n",
       "    </tr>\n",
       "    <tr>\n",
       "      <th>6274</th>\n",
       "      <td>Санкт-Петербург</td>\n",
       "      <td>9979490</td>\n",
       "      <td>1.302997</td>\n",
       "    </tr>\n",
       "    <tr>\n",
       "      <th>145</th>\n",
       "      <td>Москва</td>\n",
       "      <td>10597984</td>\n",
       "      <td>42.931506</td>\n",
       "    </tr>\n",
       "    <tr>\n",
       "      <th>...</th>\n",
       "      <td>...</td>\n",
       "      <td>...</td>\n",
       "      <td>...</td>\n",
       "    </tr>\n",
       "    <tr>\n",
       "      <th>6195</th>\n",
       "      <td>Москва</td>\n",
       "      <td>1130000020425037</td>\n",
       "      <td>0.310556</td>\n",
       "    </tr>\n",
       "    <tr>\n",
       "      <th>8775</th>\n",
       "      <td>Санкт-Петербург</td>\n",
       "      <td>1130000023864516</td>\n",
       "      <td>14.384722</td>\n",
       "    </tr>\n",
       "    <tr>\n",
       "      <th>6202</th>\n",
       "      <td>Москва</td>\n",
       "      <td>1130000023864516</td>\n",
       "      <td>142.830085</td>\n",
       "    </tr>\n",
       "    <tr>\n",
       "      <th>6210</th>\n",
       "      <td>Москва</td>\n",
       "      <td>1130000028554332</td>\n",
       "      <td>11.277554</td>\n",
       "    </tr>\n",
       "    <tr>\n",
       "      <th>8779</th>\n",
       "      <td>Санкт-Петербург</td>\n",
       "      <td>1130000028554332</td>\n",
       "      <td>4.107774</td>\n",
       "    </tr>\n",
       "  </tbody>\n",
       "</table>\n",
       "<p>488 rows × 3 columns</p>\n",
       "</div>"
      ],
      "text/plain": [
       "                 city              puid       hours\n",
       "35             Москва           2637041   10.317371\n",
       "6247  Санкт-Петербург           2637041    3.883926\n",
       "134            Москва           9979490   32.415573\n",
       "6274  Санкт-Петербург           9979490    1.302997\n",
       "145            Москва          10597984   42.931506\n",
       "...               ...               ...         ...\n",
       "6195           Москва  1130000020425037    0.310556\n",
       "8775  Санкт-Петербург  1130000023864516   14.384722\n",
       "6202           Москва  1130000023864516  142.830085\n",
       "6210           Москва  1130000028554332   11.277554\n",
       "8779  Санкт-Петербург  1130000028554332    4.107774\n",
       "\n",
       "[488 rows x 3 columns]"
      ]
     },
     "metadata": {},
     "output_type": "display_data"
    }
   ],
   "source": [
    "# Проверим количество дубликатов puid\n",
    "duplicate_count = df['puid'].duplicated().sum()\n",
    "print(f'Количество дубликатов по puid: {duplicate_count}')\n",
    "\n",
    "# Выведем сами дублирующиеся идентификаторы (если есть)\n",
    "if duplicate_count > 0:\n",
    "    duplicated_ids = df[df['puid'].duplicated(keep=False)].sort_values('puid')\n",
    "    print('Дублирующиеся записи:')\n",
    "    display(duplicated_ids)\n"
   ]
  },
  {
   "cell_type": "markdown",
   "id": "71108171-5822-426c-8a6d-26921e896a08",
   "metadata": {},
   "source": [
    "<b>Дублирующихся идентификаторов :244. Удалим их , так как нам нужны не зависимые выборки:</b>"
   ]
  },
  {
   "cell_type": "code",
   "execution_count": 7,
   "id": "cb4abae1-3c25-439c-bdec-8ba9cbd1737a",
   "metadata": {},
   "outputs": [
    {
     "name": "stdout",
     "output_type": "stream",
     "text": [
      "Количество дубликатов по puid: 0\n"
     ]
    },
    {
     "data": {
      "text/plain": [
       "Москва             6234\n",
       "Санкт-Петербург    2306\n",
       "Name: city, dtype: int64"
      ]
     },
     "execution_count": 7,
     "metadata": {},
     "output_type": "execute_result"
    }
   ],
   "source": [
    "# Удаляем дубликаты по идентификатору puid\n",
    "df = df.drop_duplicates(subset='puid', keep='first')\n",
    "\n",
    "# Проверим количество дубликатов puid\n",
    "duplicate_count = df['puid'].duplicated().sum()\n",
    "print(f'Количество дубликатов по puid: {duplicate_count}')\n",
    "df['city'].value_counts()"
   ]
  },
  {
   "cell_type": "markdown",
   "id": "956e82e2",
   "metadata": {
    "id": "956e82e2"
   },
   "source": [
    "## 2. Проверка гипотезы в Python\n",
    "\n",
    "Гипотеза звучит так: пользователи из Санкт-Петербурга проводят в среднем больше времени за чтением и прослушиванием книг в приложении, чем пользователи из Москвы. \n",
    "\n",
    "- Нулевая гипотеза H₀: Средняя активность пользователей в часах в двух группах (Москва и Санкт-Петербург) не различается.\n",
    "\n",
    "- Альтернативная гипотеза H₁: Средняя активность пользователей в Санкт-Петербурге больше, и это различие статистически значимо."
   ]
  },
  {
   "cell_type": "markdown",
   "id": "c8da5621-a0d8-4b54-8ff4-db0634ef7d3d",
   "metadata": {},
   "source": [
    "- <b>Нулевая гипотеза Н0: А = В</b>\n",
    "- <b>Альтернативная гипотеза Н1: А < B</b>"
   ]
  },
  {
   "cell_type": "code",
   "execution_count": 8,
   "id": "70de411a-7087-4fe2-ace1-97595a5f1f63",
   "metadata": {},
   "outputs": [
    {
     "data": {
      "image/png": "[encoded data removed]",
      "text/plain": [
       "<Figure size 700x500 with 1 Axes>"
      ]
     },
     "metadata": {},
     "output_type": "display_data"
    }
   ],
   "source": [
    "\n",
    "filtered_hours = df[df['hours'] <= 100]\n",
    "\n",
    "plt.figure(figsize=(7, 5))\n",
    "sns.histplot(\n",
    "    data=filtered_hours,\n",
    "    x='hours',\n",
    "    hue='city',\n",
    "    bins=30,\n",
    "    alpha=0.6,\n",
    "    kde=True,\n",
    "    multiple='layer'\n",
    ")\n",
    "\n",
    "plt.xlabel('Часы пользования')\n",
    "plt.ylabel('Количество пользователей')\n",
    "plt.title('Распределение часов пользования по городам')\n",
    "plt.grid(True, linestyle='--', alpha=0.5)\n",
    "plt.tight_layout()\n",
    "plt.show()"
   ]
  },
  {
   "cell_type": "markdown",
   "id": "f74b9a91-5605-452f-bc4a-de90c6418fee",
   "metadata": {},
   "source": [
    "<b>Распределение часов в группах примерно одинаково</b>"
   ]
  },
  {
   "cell_type": "code",
   "execution_count": 9,
   "id": "a2464527-ec26-4852-8022-b32a55ce81e2",
   "metadata": {},
   "outputs": [
    {
     "data": {
      "image/png": "[encoded data removed]",
      "text/plain": [
       "<Figure size 1400x400 with 1 Axes>"
      ]
     },
     "metadata": {},
     "output_type": "display_data"
    }
   ],
   "source": [
    "df_sort = df.groupby('city')['hours'].median().sort_values().index\n",
    "\n",
    "plt.figure(figsize=(14, 4))\n",
    "sns.boxplot(y='city', x='hours', data=df, order = df_sort, showfliers=True)  # Убедитесь, что выбросы отображаются\n",
    "plt.title('Распределение часов пользования по городам')\n",
    "plt.xlabel('Часы пользования')\n",
    "plt.ylabel('Города')\n",
    "plt.grid()\n",
    "plt.show()"
   ]
  },
  {
   "cell_type": "code",
   "execution_count": 10,
   "id": "b439ee76-70ce-449b-9e1e-3b93f961af9d",
   "metadata": {},
   "outputs": [
    {
     "data": {
      "image/png": "[encoded data removed]",
      "text/plain": [
       "<Figure size 1400x400 with 1 Axes>"
      ]
     },
     "metadata": {},
     "output_type": "display_data"
    }
   ],
   "source": [
    "df_sort = df.groupby('city')['hours'].median().sort_values().index\n",
    "\n",
    "plt.figure(figsize=(14, 4))\n",
    "sns.boxplot(y='city', x='hours', data=df, order = df_sort, showfliers=False)  # Убедитесь, что выбросы отображаются\n",
    "plt.title('Распределение часов пользования по городам')\n",
    "plt.xlabel('Часы пользования')\n",
    "plt.ylabel('Города')\n",
    "plt.grid()\n",
    "plt.show()"
   ]
  },
  {
   "cell_type": "markdown",
   "id": "e958e8ba-d40d-47e9-b9be-01f8833ee793",
   "metadata": {},
   "source": [
    "<b>Для проверки гипотезы  выберем односторонний двухвыборочный t-тест Стьюдента. Так как распределение часов в группах примерно одинаково, в обоих выборках есть выбросы они примерно эквивалентны и существенно не влияют на смещение среднего, выборки достаточно большие. Уровень статистической значимости установим стандартный 5%(0.05):</b>"
   ]
  },
  {
   "cell_type": "markdown",
   "id": "8305bd78-c558-4c50-ae46-ad085c2b893f",
   "metadata": {},
   "source": [
    "- Нулевая гипотеза H₀: Средняя активность пользователей в часах в двух группах (Москва и Санкт-Петербург) не различается.\n",
    "\n",
    "- Альтернативная гипотеза H₁: Средняя активность пользователей в Санкт-Петербурге больше, и это различие статистически значимо.\n",
    "\n",
    "- <b>Нулевая гипотеза Н0: А = В</b>\n",
    "- <b>Альтернативная гипотеза Н1: А < B</b>"
   ]
  },
  {
   "cell_type": "code",
   "execution_count": 11,
   "id": "e8b4185d-6a44-40a4-961d-e44e2c5b24d1",
   "metadata": {},
   "outputs": [
    {
     "name": "stdout",
     "output_type": "stream",
     "text": [
      "p-value: 0.34\n",
      "Не получилось отвергнуть нулевую гипотезу: статистически значимых различий не найдено.\n"
     ]
    }
   ],
   "source": [
    "# Получаем массивы hours для каждого города\n",
    "group_a = df[df['city'] == 'Москва']['hours']\n",
    "group_b = df[df['city'] == 'Санкт-Петербург']['hours']\n",
    "\n",
    "# Односторонний t-test\n",
    "t_stat, p_value = st.ttest_ind(group_a, group_b, alternative='less', equal_var=False)\n",
    "\n",
    "\n",
    "print(f\"p-value: {p_value:.2f}\")\n",
    "\n",
    "# Интерпретация\n",
    "alpha = 0.05\n",
    "if p_value < alpha:\n",
    "    print(\"Отвергаем нулевую гипотезу: среднее в Санкт-Петербурге значительно больше.\")\n",
    "else:\n",
    "    print(\"Не получилось отвергнуть нулевую гипотезу: статистически значимых различий не найдено.\")"
   ]
  },
  {
   "cell_type": "markdown",
   "id": "6953e84c",
   "metadata": {
    "id": "6953e84c"
   },
   "source": [
    "## 3. Аналитическая записка\n",
    "\n"
   ]
  },
  {
   "cell_type": "markdown",
   "id": "1df0392d-a374-4ac4-b3c5-8a3d2de11ea2",
   "metadata": {},
   "source": [
    "- <b>Для проверки гипотезы был выбран односторонний двухвыборочный t-тест Стьюдента. Так как распределение часов в группах примерно одинаково, в обоих выборках есть выбросы они примерно эквивалентны и существенно не влияют на смещение среднего, выборки достаточно большие. Уровень статистической значимости выбран стандартный 5%(0.05).</b>\n",
    "\n",
    "- <b>p-value: 0.22</b>\n",
    "\n",
    "- <b>На основе имеющихся данных и результата проведённого теста не удалось подтвердить выдвигаемую гипотезу.</b>\n",
    "\n",
    "- <b> У жителей этих городов схожий образ жизни и бытовые привычки. Люди в Санкт-Петербурге посвещают время чтению и прослушиванию аудио книг примерно столько же как и люди в Москве, столько сколько могут уделять этому время.</b>"
   ]
  },
  {
   "cell_type": "markdown",
   "id": "hc1d6jVISegz",
   "metadata": {
    "id": "hc1d6jVISegz"
   },
   "source": [
    "----"
   ]
  },
  {
   "cell_type": "markdown",
   "id": "NqOUIYhbrIfC",
   "metadata": {
    "id": "NqOUIYhbrIfC"
   },
   "source": [
    "# Часть 2. Анализ результатов A/B-тестирования"
   ]
  },
  {
   "cell_type": "markdown",
   "id": "kHx-51yES8bd",
   "metadata": {
    "id": "kHx-51yES8bd"
   },
   "source": [
    "### Цель: Оценить корректность проведения A/B теста и проанализировать его результаты."
   ]
  },
  {
   "cell_type": "markdown",
   "id": "_CZryx2OsH-s",
   "metadata": {
    "id": "_CZryx2OsH-s"
   },
   "source": [
    "## 2. Загрузите данные, оцените их целостность.\n"
   ]
  },
  {
   "cell_type": "code",
   "execution_count": 13,
   "id": "706f0507-4140-489f-9480-b6228489deb7",
   "metadata": {},
   "outputs": [
    {
     "name": "stdout",
     "output_type": "stream",
     "text": [
      "<class 'pandas.core.frame.DataFrame'>\n",
      "RangeIndex: 14525 entries, 0 to 14524\n",
      "Data columns (total 4 columns):\n",
      " #   Column   Non-Null Count  Dtype \n",
      "---  ------   --------------  ----- \n",
      " 0   user_id  14525 non-null  object\n",
      " 1   group    14525 non-null  object\n",
      " 2   ab_test  14525 non-null  object\n",
      " 3   device   14525 non-null  object\n",
      "dtypes: object(4)\n",
      "memory usage: 454.0+ KB\n"
     ]
    },
    {
     "data": {
      "text/plain": [
       "None"
      ]
     },
     "metadata": {},
     "output_type": "display_data"
    },
    {
     "data": {
      "text/html": [
       "<div>\n",
       "<style scoped>\n",
       "    .dataframe tbody tr th:only-of-type {\n",
       "        vertical-align: middle;\n",
       "    }\n",
       "\n",
       "    .dataframe tbody tr th {\n",
       "        vertical-align: top;\n",
       "    }\n",
       "\n",
       "    .dataframe thead th {\n",
       "        text-align: right;\n",
       "    }\n",
       "</style>\n",
       "<table border=\"1\" class=\"dataframe\">\n",
       "  <thead>\n",
       "    <tr style=\"text-align: right;\">\n",
       "      <th></th>\n",
       "      <th>user_id</th>\n",
       "      <th>group</th>\n",
       "      <th>ab_test</th>\n",
       "      <th>device</th>\n",
       "    </tr>\n",
       "  </thead>\n",
       "  <tbody>\n",
       "    <tr>\n",
       "      <th>0</th>\n",
       "      <td>0002CE61FF2C4011</td>\n",
       "      <td>B</td>\n",
       "      <td>interface_eu_test</td>\n",
       "      <td>Mac</td>\n",
       "    </tr>\n",
       "    <tr>\n",
       "      <th>1</th>\n",
       "      <td>001064FEAAB631A1</td>\n",
       "      <td>B</td>\n",
       "      <td>recommender_system_test</td>\n",
       "      <td>Android</td>\n",
       "    </tr>\n",
       "    <tr>\n",
       "      <th>2</th>\n",
       "      <td>001064FEAAB631A1</td>\n",
       "      <td>A</td>\n",
       "      <td>interface_eu_test</td>\n",
       "      <td>Android</td>\n",
       "    </tr>\n",
       "    <tr>\n",
       "      <th>3</th>\n",
       "      <td>0010A1C096941592</td>\n",
       "      <td>A</td>\n",
       "      <td>recommender_system_test</td>\n",
       "      <td>Android</td>\n",
       "    </tr>\n",
       "    <tr>\n",
       "      <th>4</th>\n",
       "      <td>001E72F50D1C48FA</td>\n",
       "      <td>A</td>\n",
       "      <td>interface_eu_test</td>\n",
       "      <td>Mac</td>\n",
       "    </tr>\n",
       "  </tbody>\n",
       "</table>\n",
       "</div>"
      ],
      "text/plain": [
       "            user_id group                  ab_test   device\n",
       "0  0002CE61FF2C4011     B        interface_eu_test      Mac\n",
       "1  001064FEAAB631A1     B  recommender_system_test  Android\n",
       "2  001064FEAAB631A1     A        interface_eu_test  Android\n",
       "3  0010A1C096941592     A  recommender_system_test  Android\n",
       "4  001E72F50D1C48FA     A        interface_eu_test      Mac"
      ]
     },
     "execution_count": 13,
     "metadata": {},
     "output_type": "execute_result"
    }
   ],
   "source": [
    "display(participants.info())\n",
    "participants.head()"
   ]
  },
  {
   "cell_type": "markdown",
   "id": "4bc8e33e-1337-4641-8e55-626f8230179e",
   "metadata": {},
   "source": [
    "<b>Датафрэйм participants содержит 14525 строк и 4 столбца с идентификаторами пользователей, разделёнными группами А и В, названия теста, тип устройства.</b>"
   ]
  },
  {
   "cell_type": "code",
   "execution_count": 14,
   "id": "7a8daf2e-175a-4347-929d-9f9d900efb89",
   "metadata": {},
   "outputs": [
    {
     "name": "stdout",
     "output_type": "stream",
     "text": [
      "<class 'pandas.core.frame.DataFrame'>\n",
      "RangeIndex: 787286 entries, 0 to 787285\n",
      "Data columns (total 4 columns):\n",
      " #   Column      Non-Null Count   Dtype         \n",
      "---  ------      --------------   -----         \n",
      " 0   user_id     787286 non-null  object        \n",
      " 1   event_dt    787286 non-null  datetime64[ns]\n",
      " 2   event_name  787286 non-null  object        \n",
      " 3   details     249022 non-null  object        \n",
      "dtypes: datetime64[ns](1), object(3)\n",
      "memory usage: 24.0+ MB\n"
     ]
    },
    {
     "data": {
      "text/plain": [
       "None"
      ]
     },
     "metadata": {},
     "output_type": "display_data"
    },
    {
     "data": {
      "text/html": [
       "<div>\n",
       "<style scoped>\n",
       "    .dataframe tbody tr th:only-of-type {\n",
       "        vertical-align: middle;\n",
       "    }\n",
       "\n",
       "    .dataframe tbody tr th {\n",
       "        vertical-align: top;\n",
       "    }\n",
       "\n",
       "    .dataframe thead th {\n",
       "        text-align: right;\n",
       "    }\n",
       "</style>\n",
       "<table border=\"1\" class=\"dataframe\">\n",
       "  <thead>\n",
       "    <tr style=\"text-align: right;\">\n",
       "      <th></th>\n",
       "      <th>user_id</th>\n",
       "      <th>event_dt</th>\n",
       "      <th>event_name</th>\n",
       "      <th>details</th>\n",
       "    </tr>\n",
       "  </thead>\n",
       "  <tbody>\n",
       "    <tr>\n",
       "      <th>0</th>\n",
       "      <td>GLOBAL</td>\n",
       "      <td>2020-12-01 00:00:00</td>\n",
       "      <td>End of Black Friday Ads Campaign</td>\n",
       "      <td>ZONE_CODE15</td>\n",
       "    </tr>\n",
       "    <tr>\n",
       "      <th>1</th>\n",
       "      <td>CCBE9E7E99F94A08</td>\n",
       "      <td>2020-12-01 00:00:11</td>\n",
       "      <td>registration</td>\n",
       "      <td>0.0</td>\n",
       "    </tr>\n",
       "  </tbody>\n",
       "</table>\n",
       "</div>"
      ],
      "text/plain": [
       "            user_id            event_dt                        event_name  \\\n",
       "0            GLOBAL 2020-12-01 00:00:00  End of Black Friday Ads Campaign   \n",
       "1  CCBE9E7E99F94A08 2020-12-01 00:00:11                      registration   \n",
       "\n",
       "       details  \n",
       "0  ZONE_CODE15  \n",
       "1          0.0  "
      ]
     },
     "execution_count": 14,
     "metadata": {},
     "output_type": "execute_result"
    }
   ],
   "source": [
    "display(events.info())\n",
    "events.head(2)"
   ]
  },
  {
   "cell_type": "markdown",
   "id": "2c3b91b6-27e2-4058-90fe-d2a539fb828f",
   "metadata": {},
   "source": [
    "<b>Датафрэйм events содержит 787286 строк и 4 столбца с идентификаторами, датой события, именем события и деталями.По первичной оценке пропуски содержаться в столбце details, они не повлияют на анализ. </b>"
   ]
  },
  {
   "cell_type": "markdown",
   "id": "8bcae26a-c448-4c70-b2a4-b6e65a7bd1a6",
   "metadata": {},
   "source": [
    "### Проверим наличие пользователей учавствующих в разных тестах : "
   ]
  },
  {
   "cell_type": "code",
   "execution_count": 15,
   "id": "709ae294-a1f4-4e54-80a0-2791edcd8fb6",
   "metadata": {},
   "outputs": [
    {
     "name": "stdout",
     "output_type": "stream",
     "text": [
      "Количество пользователей, участвующих одновременно в обоих тестах: 887\n",
      "user_id: ['C4D48357F1C18C76', '1D6A02B0987CD71A', '6A2064F288EF094F', '84F840D269A65875', '60D456E636F6C031', 'A944D2BCDFD50619', '9BFFAFDAB999DF19', '0082295A41A867B5', 'FEC0BCA6C323872F', '8BD80DB1522F7120']\n"
     ]
    }
   ],
   "source": [
    "# Группируем по тестам и выделяем уникальных пользователей для каждого теста\n",
    "users_interface_eu = set(participants[participants['ab_test'] == 'interface_eu_test']['user_id'])\n",
    "users_recommender = set(participants[participants['ab_test'] == 'recommender_system_test']['user_id'])\n",
    "\n",
    "# Ищем пересечение\n",
    "cross_users = users_interface_eu & users_recommender\n",
    "\n",
    "if len(cross_users) == 0:\n",
    "    print('Пересечений нет — ни один пользователь не участвует сразу в двух тестах.')\n",
    "else:\n",
    "    print(f'Количество пользователей, участвующих одновременно в обоих тестах: {len(cross_users)}')\n",
    "    print('user_id:', list(cross_users)[:10])  # Показываем первые найденные Id, если их немного\n"
   ]
  },
  {
   "cell_type": "code",
   "execution_count": 16,
   "id": "949edfff-4a53-476c-97bd-e4e0855689d8",
   "metadata": {},
   "outputs": [
    {
     "name": "stdout",
     "output_type": "stream",
     "text": [
      "Удалено 887 пользователей, участвующих сразу в двух тестах.\n"
     ]
    }
   ],
   "source": [
    "# Группируем по user_id и считаем, в скольких тестах участвует каждый\n",
    "user_test_counts = participants.groupby('user_id')['ab_test'].nunique()\n",
    "\n",
    "# Находим пользователей, участвующих более чем в одном тесте\n",
    "multi_test_users = user_test_counts[user_test_counts > 1].index\n",
    "\n",
    "# Удаляем их из исходного DataFrame\n",
    "participants_clean = participants[~participants['user_id'].isin(multi_test_users)].copy()\n",
    "\n",
    "print(f'Удалено {len(multi_test_users)} пользователей, участвующих сразу в двух тестах.')\n",
    "\n"
   ]
  },
  {
   "cell_type": "code",
   "execution_count": 17,
   "id": "bed42311-a1f6-43e3-a98c-8f1fc205428a",
   "metadata": {},
   "outputs": [
    {
     "name": "stdout",
     "output_type": "stream",
     "text": [
      "Пересечений нет — ни один пользователь не участвует сразу в двух тестах.\n"
     ]
    }
   ],
   "source": [
    "# Группируем по тестам и выделяем уникальных пользователей для каждого теста\n",
    "users_interface_eu = set(participants_clean[participants_clean['ab_test'] == 'interface_eu_test']['user_id'])\n",
    "users_recommender = set(participants_clean[participants_clean['ab_test'] == 'recommender_system_test']['user_id'])\n",
    "\n",
    "# Ищем пересечение\n",
    "cross_users = users_interface_eu & users_recommender\n",
    "\n",
    "if len(cross_users) == 0:\n",
    "    print('Пересечений нет — ни один пользователь не участвует сразу в двух тестах.')\n",
    "else:\n",
    "    print(f'Количество пользователей, участвующих одновременно в обоих тестах: {len(cross_users)}')\n",
    "   "
   ]
  },
  {
   "cell_type": "code",
   "execution_count": 18,
   "id": "53f824ee-d7d5-4274-a5c8-209857a8b169",
   "metadata": {},
   "outputs": [
    {
     "name": "stdout",
     "output_type": "stream",
     "text": [
      "Уникальных пользователей в тесте interface_eu_test: 9963\n",
      "Уникальных пользователей в тесте recommender_system_test: 2788\n"
     ]
    }
   ],
   "source": [
    "# Считаем уникальных пользователей в каждом тесте\n",
    "count_interface = participants_clean[participants_clean['ab_test'] == 'interface_eu_test']['user_id'].nunique()\n",
    "count_recommender = participants_clean[participants_clean['ab_test'] == 'recommender_system_test']['user_id'].nunique()\n",
    "\n",
    "print(f'Уникальных пользователей в тесте interface_eu_test: {count_interface}')\n",
    "print(f'Уникальных пользователей в тесте recommender_system_test: {count_recommender}')"
   ]
  },
  {
   "cell_type": "markdown",
   "id": "e2f700e8-da29-44a9-a43f-b67193147b76",
   "metadata": {},
   "source": [
    "<b>Обнаружили 887 пользователей учавствующих одновременно в двух тестах. Удалили их для корректного проведения теста.</b>"
   ]
  },
  {
   "cell_type": "markdown",
   "id": "9f0cb87b-f2c6-4f62-8b55-f33e34b0f2c3",
   "metadata": {},
   "source": [
    "### Проверим равномерность распределения пользователей по группам и по устройствам:"
   ]
  },
  {
   "cell_type": "code",
   "execution_count": 19,
   "id": "3a4b3dec-a46b-4e11-ba25-cce511c80d2a",
   "metadata": {},
   "outputs": [
    {
     "name": "stdout",
     "output_type": "stream",
     "text": [
      "Процентная разница в количестве пользователей между группами A и B: 1.2%\n"
     ]
    }
   ],
   "source": [
    "# Фильтрация по нужному тесту\n",
    "df_test = participants_clean[participants_clean['ab_test'] == 'interface_eu_test']\n",
    "\n",
    "# Подсчет уникальных пользователей в каждой группе\n",
    "unique_users = df_test.groupby('group')['user_id'].nunique()\n",
    "\n",
    "# Расчет процентной разницы между группами\n",
    "percent_difference = ((unique_users['B'] - unique_users['A']) / unique_users['A']) * 100\n",
    "\n",
    "print(f\"Процентная разница в количестве пользователей между группами A и B: {percent_difference:.1f}%\")\n"
   ]
  },
  {
   "cell_type": "code",
   "execution_count": 20,
   "id": "6e259729-e950-4d29-b73c-a401e9206f56",
   "metadata": {},
   "outputs": [
    {
     "data": {
      "image/png": "[encoded data removed]",
      "text/plain": [
       "<Figure size 400x400 with 1 Axes>"
      ]
     },
     "metadata": {},
     "output_type": "display_data"
    }
   ],
   "source": [
    "# Строим круговую диаграмму\n",
    "plt.figure(figsize=(4, 4))\n",
    "plt.pie(unique_users, labels=unique_users.index, autopct='%.1f%%', startangle=90)\n",
    "plt.title('Процентное соотношение уникальных пользователей в группах A и B')\n",
    "plt.axis('equal')  # Для равного соотношения сторон\n",
    "plt.show()"
   ]
  },
  {
   "cell_type": "markdown",
   "id": "59da123f-edb7-4708-9c93-a74f28c746a0",
   "metadata": {},
   "source": [
    "<b>Процентная разница в количестве пользователей между группами A и B: 1.2% не существенна. Пользователи по группам распределены равномерно.</b>"
   ]
  },
  {
   "cell_type": "code",
   "execution_count": 21,
   "id": "384deff8-84e7-4936-9ab1-eba6fccc6275",
   "metadata": {},
   "outputs": [
    {
     "name": "stdout",
     "output_type": "stream",
     "text": [
      "Количество пользователей, встречающихся одновременно в группах A и B: 0\n",
      "Пользователей, встречающихся в обеих группах, нет.\n"
     ]
    }
   ],
   "source": [
    "# Получаем уникальные user_id для групп A и B\n",
    "group_a_users = set(df_test[df_test['group'] == 'A']['user_id'])\n",
    "group_b_users = set(df_test[df_test['group'] == 'B']['user_id'])\n",
    "\n",
    "# Находим пересечение между группами A и B\n",
    "common_users = group_a_users.intersection(group_b_users)\n",
    "\n",
    "# Выводим количество и самих пользователей, если они есть\n",
    "print(f\"Количество пользователей, встречающихся одновременно в группах A и B: {len(common_users)}\")\n",
    "if common_users:\n",
    "    print(\"Список пользователей, встречающихся в обеих группах:\", common_users)\n",
    "else:\n",
    "    print(\"Пользователей, встречающихся в обеих группах, нет.\")"
   ]
  },
  {
   "cell_type": "markdown",
   "id": "205485d8-1537-47b7-9830-8b6a1a2610d3",
   "metadata": {},
   "source": [
    "<b>Пересекающихся пользователей в группах А и В нет</b>"
   ]
  },
  {
   "cell_type": "code",
   "execution_count": 22,
   "id": "aad5f6aa-9a0b-40a1-ae7a-11aa2b4f2dcf",
   "metadata": {
    "scrolled": true
   },
   "outputs": [
    {
     "data": {
      "image/png": "[encoded data removed]",
      "text/plain": [
       "<Figure size 1200x400 with 2 Axes>"
      ]
     },
     "metadata": {},
     "output_type": "display_data"
    }
   ],
   "source": [
    "# Расчет доли каждого типа устройства для пользователей из группы A\n",
    "device_distribution_a = df_test[df_test['group'] == 'A']['device'].value_counts(normalize=True) * 100\n",
    "\n",
    "# Расчет доли каждого типа устройства для пользователей из группы B\n",
    "device_distribution_b = df_test[df_test['group'] == 'B']['device'].value_counts(normalize=True) * 100\n",
    "\n",
    "# Построение графиков\n",
    "fig, axs = plt.subplots(1, 2, figsize=(12, 4))\n",
    "\n",
    "# График для группы A\n",
    "axs[0].bar(device_distribution_a.index, device_distribution_a.values, color='blue')\n",
    "axs[0].set_title('Доля устройств для группы A')\n",
    "axs[0].set_ylabel('Процент')\n",
    "axs[0].set_xlabel('Тип устройства')\n",
    "axs[0].set_ylim(0, 60)\n",
    "\n",
    "# Добавление подписей с процентами на столбцах группы A\n",
    "for i, v in enumerate(device_distribution_a.values):\n",
    "    axs[0].text(i, v + 1, f\"{v:.0f}%\", ha='center')\n",
    "\n",
    "# График для группы B\n",
    "axs[1].bar(device_distribution_b.index, device_distribution_b.values, color='green')\n",
    "axs[1].set_title('Доля устройств для группы B')\n",
    "axs[1].set_ylabel('Процент')\n",
    "axs[1].set_xlabel('Тип устройства')\n",
    "axs[1].set_ylim(0, 60)\n",
    "\n",
    "# Добавление подписей с процентами на столбцах группы B\n",
    "for i, v in enumerate(device_distribution_b.values):\n",
    "    axs[1].text(i, v + 1, f\"{v:.0f}%\", ha='center')\n",
    "\n",
    "plt.tight_layout()\n",
    "plt.show()"
   ]
  },
  {
   "cell_type": "markdown",
   "id": "94a73b18-9585-4f9c-a5b0-559d74d0d85d",
   "metadata": {},
   "source": [
    "<b>Распределение пользователей по устройствам в группах равномерно. Преобладающий  тип устройств Android 45% пользователей , PC 25%, iPhone 20, Mac 10%.</b>"
   ]
  },
  {
   "cell_type": "markdown",
   "id": "3a3b31db-0d41-463b-a174-a5584eaad656",
   "metadata": {},
   "source": [
    "<b>Объединим датафрэймы, выведем информацию и первые строки:</b>"
   ]
  },
  {
   "cell_type": "code",
   "execution_count": 23,
   "id": "QMt0Ybo_swDK",
   "metadata": {
    "id": "QMt0Ybo_swDK"
   },
   "outputs": [],
   "source": [
    "df_merged = participants_clean.merge(events, on = 'user_id', how ='left')"
   ]
  },
  {
   "cell_type": "code",
   "execution_count": 24,
   "id": "3739c5f6-fce1-4aac-89dc-9740c4af407f",
   "metadata": {},
   "outputs": [
    {
     "name": "stdout",
     "output_type": "stream",
     "text": [
      "<class 'pandas.core.frame.DataFrame'>\n",
      "Int64Index: 92758 entries, 0 to 92757\n",
      "Data columns (total 7 columns):\n",
      " #   Column      Non-Null Count  Dtype         \n",
      "---  ------      --------------  -----         \n",
      " 0   user_id     92758 non-null  object        \n",
      " 1   group       92758 non-null  object        \n",
      " 2   ab_test     92758 non-null  object        \n",
      " 3   device      92758 non-null  object        \n",
      " 4   event_dt    92758 non-null  datetime64[ns]\n",
      " 5   event_name  92758 non-null  object        \n",
      " 6   details     24628 non-null  object        \n",
      "dtypes: datetime64[ns](1), object(6)\n",
      "memory usage: 5.7+ MB\n"
     ]
    },
    {
     "data": {
      "text/html": [
       "<div>\n",
       "<style scoped>\n",
       "    .dataframe tbody tr th:only-of-type {\n",
       "        vertical-align: middle;\n",
       "    }\n",
       "\n",
       "    .dataframe tbody tr th {\n",
       "        vertical-align: top;\n",
       "    }\n",
       "\n",
       "    .dataframe thead th {\n",
       "        text-align: right;\n",
       "    }\n",
       "</style>\n",
       "<table border=\"1\" class=\"dataframe\">\n",
       "  <thead>\n",
       "    <tr style=\"text-align: right;\">\n",
       "      <th></th>\n",
       "      <th>user_id</th>\n",
       "      <th>group</th>\n",
       "      <th>ab_test</th>\n",
       "      <th>device</th>\n",
       "      <th>event_dt</th>\n",
       "      <th>event_name</th>\n",
       "      <th>details</th>\n",
       "    </tr>\n",
       "  </thead>\n",
       "  <tbody>\n",
       "    <tr>\n",
       "      <th>0</th>\n",
       "      <td>0002CE61FF2C4011</td>\n",
       "      <td>B</td>\n",
       "      <td>interface_eu_test</td>\n",
       "      <td>Mac</td>\n",
       "      <td>2020-12-07 04:37:31</td>\n",
       "      <td>registration</td>\n",
       "      <td>-2.38</td>\n",
       "    </tr>\n",
       "    <tr>\n",
       "      <th>1</th>\n",
       "      <td>0002CE61FF2C4011</td>\n",
       "      <td>B</td>\n",
       "      <td>interface_eu_test</td>\n",
       "      <td>Mac</td>\n",
       "      <td>2020-12-07 04:37:49</td>\n",
       "      <td>login</td>\n",
       "      <td>NaN</td>\n",
       "    </tr>\n",
       "    <tr>\n",
       "      <th>2</th>\n",
       "      <td>0002CE61FF2C4011</td>\n",
       "      <td>B</td>\n",
       "      <td>interface_eu_test</td>\n",
       "      <td>Mac</td>\n",
       "      <td>2020-12-07 04:37:57</td>\n",
       "      <td>login</td>\n",
       "      <td>NaN</td>\n",
       "    </tr>\n",
       "    <tr>\n",
       "      <th>3</th>\n",
       "      <td>0002CE61FF2C4011</td>\n",
       "      <td>B</td>\n",
       "      <td>interface_eu_test</td>\n",
       "      <td>Mac</td>\n",
       "      <td>2020-12-07 04:38:54</td>\n",
       "      <td>login</td>\n",
       "      <td>NaN</td>\n",
       "    </tr>\n",
       "    <tr>\n",
       "      <th>4</th>\n",
       "      <td>0002CE61FF2C4011</td>\n",
       "      <td>B</td>\n",
       "      <td>interface_eu_test</td>\n",
       "      <td>Mac</td>\n",
       "      <td>2020-12-08 22:15:35</td>\n",
       "      <td>login</td>\n",
       "      <td>NaN</td>\n",
       "    </tr>\n",
       "  </tbody>\n",
       "</table>\n",
       "</div>"
      ],
      "text/plain": [
       "            user_id group            ab_test device            event_dt  \\\n",
       "0  0002CE61FF2C4011     B  interface_eu_test    Mac 2020-12-07 04:37:31   \n",
       "1  0002CE61FF2C4011     B  interface_eu_test    Mac 2020-12-07 04:37:49   \n",
       "2  0002CE61FF2C4011     B  interface_eu_test    Mac 2020-12-07 04:37:57   \n",
       "3  0002CE61FF2C4011     B  interface_eu_test    Mac 2020-12-07 04:38:54   \n",
       "4  0002CE61FF2C4011     B  interface_eu_test    Mac 2020-12-08 22:15:35   \n",
       "\n",
       "     event_name details  \n",
       "0  registration   -2.38  \n",
       "1         login     NaN  \n",
       "2         login     NaN  \n",
       "3         login     NaN  \n",
       "4         login     NaN  "
      ]
     },
     "execution_count": 24,
     "metadata": {},
     "output_type": "execute_result"
    }
   ],
   "source": [
    "df_merged.info()\n",
    "df_merged.head()"
   ]
  },
  {
   "cell_type": "markdown",
   "id": "4811c3c0-4d9b-4b23-8d1f-b2f7f08c82ff",
   "metadata": {},
   "source": [
    "<b>Оставим только те события, связанные с участвующими в изучаемом тесте пользователями</b>"
   ]
  },
  {
   "cell_type": "code",
   "execution_count": 25,
   "id": "61c8b8b7-351f-4599-8e21-b7792880890d",
   "metadata": {},
   "outputs": [],
   "source": [
    "# Получаем  user_id, которые участвуют в  тесте\n",
    "test_users = df_merged.loc[df_merged['ab_test'] == 'interface_eu_test', 'user_id'].unique()\n",
    "\n",
    "# Оставляем только события этих пользователей\n",
    "df_filtered = df_merged[df_merged['user_id'].isin(test_users)]\n",
    "\n",
    "\n"
   ]
  },
  {
   "cell_type": "markdown",
   "id": "74d1e9fa-fa3a-4441-a500-fc3bf027a77a",
   "metadata": {},
   "source": [
    "<b>Оставим только те события, которые были выполнены в течение первых семи дней с момента регистрации:</b>"
   ]
  },
  {
   "cell_type": "code",
   "execution_count": 26,
   "id": "sES4-dKts0Yb",
   "metadata": {
    "id": "sES4-dKts0Yb"
   },
   "outputs": [
    {
     "name": "stdout",
     "output_type": "stream",
     "text": [
      "Событий в течение первых 7 дней после регистрации: 63805\n"
     ]
    },
    {
     "data": {
      "text/html": [
       "<div>\n",
       "<style scoped>\n",
       "    .dataframe tbody tr th:only-of-type {\n",
       "        vertical-align: middle;\n",
       "    }\n",
       "\n",
       "    .dataframe tbody tr th {\n",
       "        vertical-align: top;\n",
       "    }\n",
       "\n",
       "    .dataframe thead th {\n",
       "        text-align: right;\n",
       "    }\n",
       "</style>\n",
       "<table border=\"1\" class=\"dataframe\">\n",
       "  <thead>\n",
       "    <tr style=\"text-align: right;\">\n",
       "      <th></th>\n",
       "      <th>user_id</th>\n",
       "      <th>group</th>\n",
       "      <th>ab_test</th>\n",
       "      <th>device</th>\n",
       "      <th>event_dt</th>\n",
       "      <th>event_name</th>\n",
       "      <th>details</th>\n",
       "      <th>registration_dt</th>\n",
       "      <th>lifetime_days</th>\n",
       "    </tr>\n",
       "  </thead>\n",
       "  <tbody>\n",
       "    <tr>\n",
       "      <th>0</th>\n",
       "      <td>0002CE61FF2C4011</td>\n",
       "      <td>B</td>\n",
       "      <td>interface_eu_test</td>\n",
       "      <td>Mac</td>\n",
       "      <td>2020-12-07 04:37:31</td>\n",
       "      <td>registration</td>\n",
       "      <td>-2.38</td>\n",
       "      <td>2020-12-07 04:37:31</td>\n",
       "      <td>0</td>\n",
       "    </tr>\n",
       "    <tr>\n",
       "      <th>1</th>\n",
       "      <td>0002CE61FF2C4011</td>\n",
       "      <td>B</td>\n",
       "      <td>interface_eu_test</td>\n",
       "      <td>Mac</td>\n",
       "      <td>2020-12-07 04:37:49</td>\n",
       "      <td>login</td>\n",
       "      <td>NaN</td>\n",
       "      <td>2020-12-07 04:37:31</td>\n",
       "      <td>0</td>\n",
       "    </tr>\n",
       "  </tbody>\n",
       "</table>\n",
       "</div>"
      ],
      "text/plain": [
       "            user_id group            ab_test device            event_dt  \\\n",
       "0  0002CE61FF2C4011     B  interface_eu_test    Mac 2020-12-07 04:37:31   \n",
       "1  0002CE61FF2C4011     B  interface_eu_test    Mac 2020-12-07 04:37:49   \n",
       "\n",
       "     event_name details     registration_dt  lifetime_days  \n",
       "0  registration   -2.38 2020-12-07 04:37:31              0  \n",
       "1         login     NaN 2020-12-07 04:37:31              0  "
      ]
     },
     "execution_count": 26,
     "metadata": {},
     "output_type": "execute_result"
    }
   ],
   "source": [
    "# Определяем дату регистрации каждого пользователя\n",
    "registration_df = df_filtered.groupby('user_id')['event_dt'].min().reset_index()\n",
    "registration_df.rename(columns={'event_dt': 'registration_dt'}, inplace=True)\n",
    "\n",
    "# Добавляем дату регистрации в основной датафрейм\n",
    "df_lifetime = df_filtered.merge(registration_df, on='user_id', how='left')\n",
    "\n",
    "# Считаем разницу в днях между событием и регистрацией\n",
    "df_lifetime['lifetime_days'] = (df_lifetime['event_dt'] - df_lifetime['registration_dt']).dt.days\n",
    "\n",
    "# Оставляем события только в первые 7 дней (включительно)\n",
    "df_lifetime_7d = df_lifetime[df_lifetime['lifetime_days'] < 7]\n",
    "\n",
    "print(f'Событий в течение первых 7 дней после регистрации: {df_lifetime_7d.shape[0]}')\n",
    "df_lifetime_7d.sort_values(by=['user_id', 'event_dt'], ascending=True).head(2)\n"
   ]
  },
  {
   "cell_type": "markdown",
   "id": "9b76ddb4-7555-4e94-bf10-7076ff742c76",
   "metadata": {},
   "source": [
    "<b>Определим размер выборки для получения статистически значимых результатов A/B-теста</b>"
   ]
  },
  {
   "cell_type": "code",
   "execution_count": 28,
   "id": "7d97b466",
   "metadata": {},
   "outputs": [
    {
     "name": "stdout",
     "output_type": "stream",
     "text": [
      "Необходимый размер выборки для каждой группы: 3761\n"
     ]
    }
   ],
   "source": [
    "\n",
    "\n",
    "# Задаём параметры\n",
    "alpha = 0.05  # Уровень значимости\n",
    "beta = 0.2  # Ошибка второго рода, часто 1 - мощность\n",
    "power = 1 - beta  # Мощность теста\n",
    "p = 0.3 # Базовый показатель конверсии\n",
    "mde = 0.1 * p # Минимальный детектируемый эффект\n",
    "\n",
    "# Инициализируем класс NormalIndPower\n",
    "power_analysis = NormalIndPower()\n",
    "\n",
    "# Рассчитываем размер выборки\n",
    "sample_size = power_analysis.solve_power(\n",
    "    effect_size = abs(2 *  (np.arcsin(np.sqrt(p)) - np.arcsin(np.sqrt(p + mde)))),\n",
    "    power = power,\n",
    "    alpha = alpha,\n",
    "    ratio = 1 # Равномерное распределение выборок\n",
    ")\n",
    "\n",
    "print(f\"Необходимый размер выборки для каждой группы: {int(sample_size)}\")\n",
    "\n",
    "\n"
   ]
  },
  {
   "cell_type": "markdown",
   "id": "85582b40-f997-4e87-8a99-adb12678eb62",
   "metadata": {},
   "source": [
    "<b>Выборки достаточны для получения статистически значимых результатов A/B-теста.</b>"
   ]
  },
  {
   "cell_type": "code",
   "execution_count": 29,
   "id": "f67b07b1-82a9-47f8-9439-d32a7fe222db",
   "metadata": {},
   "outputs": [
    {
     "data": {
      "text/plain": [
       "'Разница в конверсии между группами: 1.7%'"
      ]
     },
     "metadata": {},
     "output_type": "display_data"
    },
    {
     "data": {
      "text/html": [
       "<div>\n",
       "<style scoped>\n",
       "    .dataframe tbody tr th:only-of-type {\n",
       "        vertical-align: middle;\n",
       "    }\n",
       "\n",
       "    .dataframe tbody tr th {\n",
       "        vertical-align: top;\n",
       "    }\n",
       "\n",
       "    .dataframe thead th {\n",
       "        text-align: right;\n",
       "    }\n",
       "</style>\n",
       "<table border=\"1\" class=\"dataframe\">\n",
       "  <thead>\n",
       "    <tr style=\"text-align: right;\">\n",
       "      <th></th>\n",
       "      <th>group</th>\n",
       "      <th>buyers</th>\n",
       "      <th>total_users</th>\n",
       "      <th>conversion (%)</th>\n",
       "    </tr>\n",
       "  </thead>\n",
       "  <tbody>\n",
       "    <tr>\n",
       "      <th>0</th>\n",
       "      <td>A</td>\n",
       "      <td>1377</td>\n",
       "      <td>4952</td>\n",
       "      <td>27.81</td>\n",
       "    </tr>\n",
       "    <tr>\n",
       "      <th>1</th>\n",
       "      <td>B</td>\n",
       "      <td>1480</td>\n",
       "      <td>5011</td>\n",
       "      <td>29.54</td>\n",
       "    </tr>\n",
       "  </tbody>\n",
       "</table>\n",
       "</div>"
      ],
      "text/plain": [
       "  group  buyers  total_users  conversion (%)\n",
       "0     A    1377         4952           27.81\n",
       "1     B    1480         5011           29.54"
      ]
     },
     "execution_count": 29,
     "metadata": {},
     "output_type": "execute_result"
    }
   ],
   "source": [
    "#  Число уникальных пользователей, совершивших покупку, по группам:\n",
    "purchase_events = df_lifetime_7d[df_lifetime_7d['event_name'] == 'purchase']\n",
    "buyers_per_group = purchase_events.groupby('group')['user_id'].nunique().reset_index()\n",
    "buyers_per_group.rename(columns={'user_id': 'buyers'}, inplace=True)\n",
    "\n",
    "# Общее количество уникальных пользователей в каждой группе:\n",
    "total_users_per_group = df_lifetime_7d.groupby('group')['user_id'].nunique().reset_index()\n",
    "total_users_per_group.rename(columns={'user_id': 'total_users'}, inplace=True)\n",
    "\n",
    "# Объединяем для удобства:\n",
    "summary = buyers_per_group.merge(total_users_per_group, on='group')\n",
    "\n",
    "# Считаем конверсию для каждой группы\n",
    "summary['conversion'] = summary['buyers'] / summary['total_users']\n",
    "\n",
    "# Считаем разницу между группами (для двух групп)\n",
    "# (можно явно обозначить переменную для группы, если необходимо)\n",
    "if len(summary) == 2:\n",
    "    diff = summary.sort_values('group')['conversion'].diff().iloc[-1]\n",
    "    display(f\"Разница в конверсии между группами: {diff*100:.1f}%\")\n",
    "\n",
    "# вывод таблицы с конверсией\n",
    "summary['conversion'] = (summary['conversion'] * 100).round(2)  # В процентах\n",
    "summary.rename(columns={'conversion': 'conversion (%)'}, inplace=True)\n",
    "\n",
    "(summary)\n"
   ]
  },
  {
   "cell_type": "markdown",
   "id": "aaeef584-c109-44f7-aca4-0a61c44dff9e",
   "metadata": {
    "id": "hHTHPkJYs8mE"
   },
   "source": [
    "<b>Конверсия в теструемой группе В выше чем в контрольной А на 1.7%. Ожидаемый прирост 3п.п. не достигнут.</b>"
   ]
  },
  {
   "cell_type": "markdown",
   "id": "IKZ1Oo3Ws919",
   "metadata": {
    "id": "IKZ1Oo3Ws919"
   },
   "source": [
    "## 4. Оценка результатов A/B-тестирования:"
   ]
  },
  {
   "cell_type": "markdown",
   "id": "47c407b0-3098-4530-80d1-d32679987990",
   "metadata": {},
   "source": [
    "<h3>Гипотеза : Новая версия сайта повысит конверсию покупки.</h3>\n",
    "\n",
    "- <b>Нулеваая гипотеза Н0: CR старой версии сайта равна(=) CR новой версии сайта</b>\n",
    "\n",
    "- <b>Альтернативная гипотеза Н1: CR старой версии сайта меньше(<) CR новой версии сайта </b>"
   ]
  },
  {
   "cell_type": "code",
   "execution_count": 30,
   "id": "b0f1e550-b723-407b-91e2-0653180f70ee",
   "metadata": {},
   "outputs": [
    {
     "name": "stdout",
     "output_type": "stream",
     "text": [
      "\n",
      "Результаты z-теста:\n",
      "p-value: 0.0283\n",
      "\n",
      "Конверсия в тестовой группе статистически значимо ВЫШЕ. Принимаем альтернативную гипотезу\n"
     ]
    }
   ],
   "source": [
    "\n",
    "\n",
    "# Количество успехов (покупателей)\n",
    "counts = summary.sort_values('group')['buyers'].values \n",
    "\n",
    "# Всего пользователей\n",
    "nobs = summary.sort_values('group')['total_users'].values      \n",
    "\n",
    "#  Применяем z-тест\n",
    "stat, pval = proportions_ztest(count=counts, nobs=nobs, alternative='smaller')\n",
    "\n",
    "print(\"\\nРезультаты z-теста:\")\n",
    "\n",
    "print(f\"p-value: {pval:.4f}\")\n",
    "\n",
    "# Интерпретация результата\n",
    "alpha = 0.05\n",
    "if pval < alpha:\n",
    "    print(\"\\nКонверсия в тестовой группе статистически значимо ВЫШЕ. Принимаем альтернативную гипотезу\")\n",
    "else:\n",
    "    print(\"\\nНет оснований отвергнуть H0: Разница в конверсии незначима.\")"
   ]
  },
  {
   "cell_type": "markdown",
   "id": "npoPPSKytKvR",
   "metadata": {
    "id": "npoPPSKytKvR"
   },
   "source": [
    "### Выводы:\n",
    "\n",
    "<b>На основании имеющихся данных и результата проведённого  A/B-теста можно сделать следующие выводы:</b>\n",
    "\n",
    "- <b>Изменение интерфейса повлияло на рост ключевой метрики Конверсии в покупку . Показатель метрики в группе с новым интерфейсом выше на 1.7%</b>\n",
    "\n",
    "- <b>p-value для оценки статистической значимости выявленного эффекта: 0.0283</b>\n",
    "\n",
    "<h2>Исходя из полученного результата эксперимента стоит изменить интерфейс сайта!  <a class=\"tocSkip\"> </h2>\n",
    "\n"
   ]
  }
 ],
 "metadata": {
  "ExecuteTimeLog": [
   {
    "duration": 1420,
    "start_time": "2025-06-04T18:35:17.806Z"
   },
   {
    "duration": 81,
    "start_time": "2025-06-04T18:35:19.228Z"
   },
   {
    "duration": 22,
    "start_time": "2025-06-04T18:35:19.311Z"
   },
   {
    "duration": 6,
    "start_time": "2025-06-04T18:35:19.334Z"
   },
   {
    "duration": 561,
    "start_time": "2025-06-04T18:35:19.342Z"
   },
   {
    "duration": 161,
    "start_time": "2025-06-04T18:35:19.905Z"
   },
   {
    "duration": 161,
    "start_time": "2025-06-04T18:35:20.068Z"
   },
   {
    "duration": 10,
    "start_time": "2025-06-04T18:35:20.230Z"
   },
   {
    "duration": 1672,
    "start_time": "2025-06-04T18:35:20.242Z"
   },
   {
    "duration": 19,
    "start_time": "2025-06-04T18:35:21.916Z"
   },
   {
    "duration": 173,
    "start_time": "2025-06-04T18:35:21.937Z"
   },
   {
    "duration": 9,
    "start_time": "2025-06-04T18:35:22.112Z"
   },
   {
    "duration": 98,
    "start_time": "2025-06-04T18:35:22.122Z"
   },
   {
    "duration": 10,
    "start_time": "2025-06-04T18:35:22.223Z"
   },
   {
    "duration": 353,
    "start_time": "2025-06-04T18:35:22.235Z"
   },
   {
    "duration": 12,
    "start_time": "2025-06-04T18:35:22.589Z"
   },
   {
    "duration": 33,
    "start_time": "2025-06-04T18:35:22.602Z"
   },
   {
    "duration": 225,
    "start_time": "2025-06-04T18:35:22.637Z"
   },
   {
    "duration": 51,
    "start_time": "2025-06-04T18:35:22.864Z"
   },
   {
    "duration": 32,
    "start_time": "2025-06-04T18:35:22.917Z"
   },
   {
    "duration": 86,
    "start_time": "2025-06-04T18:35:22.951Z"
   },
   {
    "duration": 18,
    "start_time": "2025-06-04T18:35:23.039Z"
   },
   {
    "duration": 160,
    "start_time": "2025-06-04T18:35:23.076Z"
   },
   {
    "duration": 10,
    "start_time": "2025-06-04T18:35:23.238Z"
   },
   {
    "duration": 7,
    "start_time": "2025-06-04T18:35:39.727Z"
   }
  ],
  "colab": {
   "provenance": [],
   "toc_visible": true
  },
  "kernelspec": {
   "display_name": "Python 3 (ipykernel)",
   "language": "python",
   "name": "python3"
  },
  "language_info": {
   "codemirror_mode": {
    "name": "ipython",
    "version": 3
   },
   "file_extension": ".py",
   "mimetype": "text/x-python",
   "name": "python",
   "nbconvert_exporter": "python",
   "pygments_lexer": "ipython3",
   "version": "3.9.21"
  },
  "toc": {
   "base_numbering": 1,
   "nav_menu": {},
   "number_sections": true,
   "sideBar": true,
   "skip_h1_title": true,
   "title_cell": "Table of Contents",
   "title_sidebar": "Contents",
   "toc_cell": false,
   "toc_position": {},
   "toc_section_display": true,
   "toc_window_display": false
  }
 },
 "nbformat": 4,
 "nbformat_minor": 5
}
